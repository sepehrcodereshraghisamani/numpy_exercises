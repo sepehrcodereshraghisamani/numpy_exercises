{
  "nbformat": 4,
  "nbformat_minor": 0,
  "metadata": {
    "colab": {
      "provenance": [],
      "authorship_tag": "ABX9TyPF+nO20HnfRPWBrY5uKx4p",
      "include_colab_link": true
    },
    "kernelspec": {
      "name": "python3",
      "display_name": "Python 3"
    },
    "language_info": {
      "name": "python"
    }
  },
  "cells": [
    {
      "cell_type": "markdown",
      "metadata": {
        "id": "view-in-github",
        "colab_type": "text"
      },
      "source": [
        "<a href=\"https://colab.research.google.com/github/sepehrcodereshraghisamani/numpy_exercises/blob/main/numpy.ipynb\" target=\"_parent\"><img src=\"https://colab.research.google.com/assets/colab-badge.svg\" alt=\"Open In Colab\"/></a>"
      ]
    },
    {
      "cell_type": "markdown",
      "source": [
        "# Numpy workshop for more exercising"
      ],
      "metadata": {
        "id": "Oi8Hm3F1pvWY"
      }
    },
    {
      "cell_type": "code",
      "source": [
        "import numpy"
      ],
      "metadata": {
        "id": "M1t3R9vPp-GZ"
      },
      "execution_count": null,
      "outputs": []
    },
    {
      "cell_type": "markdown",
      "source": [
        "let's compare list vs NumpyArrays"
      ],
      "metadata": {
        "id": "7VKmTYfDqYo3"
      }
    },
    {
      "cell_type": "code",
      "source": [
        "from time import process_time\n",
        "\n",
        "typical_list = [i for i in range(100000)]\n",
        "begin_time = process_time()\n",
        "typical_list = [i+3 for i in typical_list]\n",
        "end_time = process_time()\n",
        "print(end_time - begin_time)"
      ],
      "metadata": {
        "colab": {
          "base_uri": "https://localhost:8080/"
        },
        "id": "I_qossIJqi3-",
        "outputId": "a35f911c-83d9-4b35-d0fd-f476a27dc82c"
      },
      "execution_count": null,
      "outputs": [
        {
          "output_type": "stream",
          "name": "stdout",
          "text": [
            "0.014616391999999756\n"
          ]
        }
      ]
    },
    {
      "cell_type": "code",
      "source": [
        "Numpy_array = numpy.array([i for i in range(100000)])\n",
        "begin_time = process_time()\n",
        "Numpy_array += 3\n",
        "end_time = process_time()\n",
        "print(end_time - begin_time)"
      ],
      "metadata": {
        "colab": {
          "base_uri": "https://localhost:8080/"
        },
        "id": "KWFkv8lSrdrS",
        "outputId": "dec4f58d-f369-4502-8d9c-688a1c04d90d"
      },
      "execution_count": null,
      "outputs": [
        {
          "output_type": "stream",
          "name": "stdout",
          "text": [
            "0.0007714019999998101\n"
          ]
        }
      ]
    },
    {
      "cell_type": "markdown",
      "source": [
        "Creating Numpy arrays with initialized values"
      ],
      "metadata": {
        "id": "yo2tO9q96auQ"
      }
    },
    {
      "cell_type": "code",
      "source": [
        "y = numpy.ones((7,8))\n",
        "print(y)"
      ],
      "metadata": {
        "colab": {
          "base_uri": "https://localhost:8080/"
        },
        "id": "PXBB4bQQ6vSj",
        "outputId": "1bd0007a-3294-44c0-80ec-1137ddd2412c"
      },
      "execution_count": null,
      "outputs": [
        {
          "output_type": "stream",
          "name": "stdout",
          "text": [
            "[[1. 1. 1. 1. 1. 1. 1. 1.]\n",
            " [1. 1. 1. 1. 1. 1. 1. 1.]\n",
            " [1. 1. 1. 1. 1. 1. 1. 1.]\n",
            " [1. 1. 1. 1. 1. 1. 1. 1.]\n",
            " [1. 1. 1. 1. 1. 1. 1. 1.]\n",
            " [1. 1. 1. 1. 1. 1. 1. 1.]\n",
            " [1. 1. 1. 1. 1. 1. 1. 1.]]\n"
          ]
        }
      ]
    },
    {
      "cell_type": "code",
      "source": [
        "x = numpy.zeros((6,7))\n",
        "print(x)"
      ],
      "metadata": {
        "colab": {
          "base_uri": "https://localhost:8080/"
        },
        "id": "53HjXnUR60z0",
        "outputId": "2b352285-05b0-4913-8cd9-eaa5e7d5f85f"
      },
      "execution_count": null,
      "outputs": [
        {
          "output_type": "stream",
          "name": "stdout",
          "text": [
            "[[0. 0. 0. 0. 0. 0. 0.]\n",
            " [0. 0. 0. 0. 0. 0. 0.]\n",
            " [0. 0. 0. 0. 0. 0. 0.]\n",
            " [0. 0. 0. 0. 0. 0. 0.]\n",
            " [0. 0. 0. 0. 0. 0. 0.]\n",
            " [0. 0. 0. 0. 0. 0. 0.]]\n"
          ]
        }
      ]
    },
    {
      "cell_type": "code",
      "source": [
        "#identity matrix\n",
        "a = numpy.eye(5)\n",
        "print(a)"
      ],
      "metadata": {
        "colab": {
          "base_uri": "https://localhost:8080/"
        },
        "id": "3rkR5RcA7CBf",
        "outputId": "b37ba3b3-1f0b-4f78-dd74-cb70b2dc353a"
      },
      "execution_count": null,
      "outputs": [
        {
          "output_type": "stream",
          "name": "stdout",
          "text": [
            "[[1. 0. 0. 0. 0.]\n",
            " [0. 1. 0. 0. 0.]\n",
            " [0. 0. 1. 0. 0.]\n",
            " [0. 0. 0. 1. 0.]\n",
            " [0. 0. 0. 0. 1.]]\n"
          ]
        }
      ]
    },
    {
      "cell_type": "code",
      "source": [
        "# a numpy array with specific vlues\n",
        "z = numpy.full((5,4), 7)\n",
        "print(z)"
      ],
      "metadata": {
        "colab": {
          "base_uri": "https://localhost:8080/"
        },
        "id": "RxQnaZDt7f19",
        "outputId": "1393fc54-6d81-4cff-81e7-e5753b5437c4"
      },
      "execution_count": null,
      "outputs": [
        {
          "output_type": "stream",
          "name": "stdout",
          "text": [
            "[[7 7 7 7]\n",
            " [7 7 7 7]\n",
            " [7 7 7 7]\n",
            " [7 7 7 7]\n",
            " [7 7 7 7]]\n"
          ]
        }
      ]
    },
    {
      "cell_type": "code",
      "source": [
        "# an array with random digits\n",
        "x1 = numpy.random.random((5,4))\n",
        "print(x1)"
      ],
      "metadata": {
        "colab": {
          "base_uri": "https://localhost:8080/"
        },
        "id": "vYJEswsK8DS2",
        "outputId": "cdfb430a-d3c4-455f-87d0-b8ec0882c243"
      },
      "execution_count": null,
      "outputs": [
        {
          "output_type": "stream",
          "name": "stdout",
          "text": [
            "[[0.79678897 0.42764948 0.60641099 0.37542098]\n",
            " [0.36842346 0.09228554 0.66674724 0.73834701]\n",
            " [0.21120304 0.49960952 0.34181531 0.99635041]\n",
            " [0.41858705 0.01458324 0.17971791 0.54145729]\n",
            " [0.90529138 0.16107254 0.84390445 0.33934554]]\n"
          ]
        }
      ]
    },
    {
      "cell_type": "code",
      "source": [
        "# array with random integers\n",
        "x2 = numpy.random.randint(100,200, size=(5,4))\n",
        "print(x2)"
      ],
      "metadata": {
        "colab": {
          "base_uri": "https://localhost:8080/"
        },
        "id": "805ty04G8fmb",
        "outputId": "61529eb4-5121-44f8-b1d1-48773b63e151"
      },
      "execution_count": null,
      "outputs": [
        {
          "output_type": "stream",
          "name": "stdout",
          "text": [
            "[[192 190 112 161]\n",
            " [172 156 188 157]\n",
            " [195 170 153 140]\n",
            " [112 142 198 134]\n",
            " [148 108 128 184]]\n"
          ]
        }
      ]
    },
    {
      "cell_type": "code",
      "source": [
        "# an array that contains a range of evenly spaced intervals\n",
        "x3 = numpy.arange(20,40,3)\n",
        "print(x3)\n"
      ],
      "metadata": {
        "id": "jEk1sS9-82F2",
        "colab": {
          "base_uri": "https://localhost:8080/"
        },
        "outputId": "66a674f8-dd8d-4c50-88b8-1f56a28861da"
      },
      "execution_count": null,
      "outputs": [
        {
          "output_type": "stream",
          "name": "stdout",
          "text": [
            "[20 23 26 29 32 35 38]\n"
          ]
        }
      ]
    },
    {
      "cell_type": "code",
      "source": [
        "# # an array with values that are spaced linearly in a specified interval with saying number of values needed\n",
        "x4 = numpy.linspace(10,34,num = 9)\n",
        "print(x4)"
      ],
      "metadata": {
        "colab": {
          "base_uri": "https://localhost:8080/"
        },
        "id": "UjVWsZYlYuul",
        "outputId": "a5f52845-2694-42d1-b353-b9aa154c7979"
      },
      "execution_count": null,
      "outputs": [
        {
          "output_type": "stream",
          "name": "stdout",
          "text": [
            "[10. 13. 16. 19. 22. 25. 28. 31. 34.]\n"
          ]
        }
      ]
    },
    {
      "cell_type": "code",
      "source": [
        "# how to convert a typical list to a numpy array\n",
        "list2 = [1,2,3,4,5,6,7,8,9]\n",
        "numpy_array = numpy.asarray(list2)\n",
        "print(numpy_array)\n",
        "type(numpy_array)"
      ],
      "metadata": {
        "colab": {
          "base_uri": "https://localhost:8080/"
        },
        "id": "MnkyXLoSY_iQ",
        "outputId": "bc6e8c54-1dec-4ee8-850a-0112391a438f"
      },
      "execution_count": null,
      "outputs": [
        {
          "output_type": "stream",
          "name": "stdout",
          "text": [
            "[1 2 3 4 5 6 7 8 9]\n"
          ]
        },
        {
          "output_type": "execute_result",
          "data": {
            "text/plain": [
              "numpy.ndarray"
            ]
          },
          "metadata": {},
          "execution_count": 5
        }
      ]
    },
    {
      "cell_type": "code",
      "source": [
        "# scan different aspects of a numpy array\n",
        "a1 = numpy.random.randint(1,100, size=(6,9))\n",
        "print(a1)"
      ],
      "metadata": {
        "colab": {
          "base_uri": "https://localhost:8080/"
        },
        "id": "3MuQp4rra8lF",
        "outputId": "87787f5f-1ea1-4da6-bac7-14fa50047b93"
      },
      "execution_count": null,
      "outputs": [
        {
          "output_type": "stream",
          "name": "stdout",
          "text": [
            "[[62 77 16 92 81 99  8 56 90]\n",
            " [77 15 96 47 56 34 17 92 43]\n",
            " [ 9 13 70 41 74 64 49 11 21]\n",
            " [67 51 72 96 97 64 87 92 59]\n",
            " [89 32 83 96 62 13 88 49 51]\n",
            " [49 83 89  4 83 69 48 61 46]]\n"
          ]
        }
      ]
    },
    {
      "cell_type": "code",
      "source": [
        "# dimension of array\n",
        "print(a1.ndim)"
      ],
      "metadata": {
        "colab": {
          "base_uri": "https://localhost:8080/"
        },
        "id": "6_OUxcuVb3uh",
        "outputId": "00fba34b-cdb3-4002-b546-7cd3341f5d59"
      },
      "execution_count": null,
      "outputs": [
        {
          "output_type": "stream",
          "name": "stdout",
          "text": [
            "2\n"
          ]
        }
      ]
    },
    {
      "cell_type": "code",
      "source": [
        "# number of elements stored along each dimension of the array\n",
        "print(a1.shape)"
      ],
      "metadata": {
        "colab": {
          "base_uri": "https://localhost:8080/"
        },
        "id": "9iPeQJNWcVY0",
        "outputId": "2199348f-f887-4d47-ee4f-b20331ed046a"
      },
      "execution_count": null,
      "outputs": [
        {
          "output_type": "stream",
          "name": "stdout",
          "text": [
            "(6, 9)\n"
          ]
        }
      ]
    },
    {
      "cell_type": "code",
      "source": [
        "# number of elements in an array\n",
        "print(a1.size)"
      ],
      "metadata": {
        "id": "wlLzm5_Mc1Cc",
        "colab": {
          "base_uri": "https://localhost:8080/"
        },
        "outputId": "c86c5092-fe83-4b9b-ac59-c8ee78a1882d"
      },
      "execution_count": null,
      "outputs": [
        {
          "output_type": "stream",
          "name": "stdout",
          "text": [
            "54\n"
          ]
        }
      ]
    },
    {
      "cell_type": "code",
      "source": [
        "# data type of values in array\n",
        "print(a1.dtype)"
      ],
      "metadata": {
        "colab": {
          "base_uri": "https://localhost:8080/"
        },
        "id": "z2Je8N6JsDBc",
        "outputId": "1fb74524-f507-4fa6-efd9-d743bd36abfb"
      },
      "execution_count": null,
      "outputs": [
        {
          "output_type": "stream",
          "name": "stdout",
          "text": [
            "int64\n"
          ]
        }
      ]
    },
    {
      "cell_type": "code",
      "source": [
        "# different mathematical operations on numpy arrays\n",
        "x1 = numpy.random.randint(10,30,size=(2,3))\n",
        "x2 = numpy.random.randint(30,90,size=(2,3))\n",
        "print(x1)\n",
        "print(x2)"
      ],
      "metadata": {
        "colab": {
          "base_uri": "https://localhost:8080/"
        },
        "id": "edMBsLSKsXte",
        "outputId": "20eba01a-4bdd-453b-d5f3-76fb657948b2"
      },
      "execution_count": null,
      "outputs": [
        {
          "output_type": "stream",
          "name": "stdout",
          "text": [
            "[[16 23 12]\n",
            " [27 20 16]]\n",
            "[[62 48 36]\n",
            " [74 33 46]]\n"
          ]
        }
      ]
    },
    {
      "cell_type": "code",
      "source": [
        "print(numpy.add(x1,x2))\n",
        "print(numpy.subtract(x1,x2))\n",
        "print(numpy.multiply(x1,x2))\n",
        "print(numpy.divide(x1,x2))\n"
      ],
      "metadata": {
        "colab": {
          "base_uri": "https://localhost:8080/"
        },
        "id": "UcTDtAcZuSb-",
        "outputId": "265679bc-6e93-4170-f131-00e29fd1bf21"
      },
      "execution_count": null,
      "outputs": [
        {
          "output_type": "stream",
          "name": "stdout",
          "text": [
            "[[ 78  71  48]\n",
            " [101  53  62]]\n",
            "[[-46 -25 -24]\n",
            " [-47 -13 -30]]\n",
            "[[ 992 1104  432]\n",
            " [1998  660  736]]\n",
            "[[0.25806452 0.47916667 0.33333333]\n",
            " [0.36486486 0.60606061 0.34782609]]\n"
          ]
        }
      ]
    },
    {
      "cell_type": "code",
      "source": [
        "# or simply use operators\n",
        "print(x1 + x2)\n",
        "print(x1 - x2)\n",
        "print(x1 * x2)\n",
        "print(x1 / x2)"
      ],
      "metadata": {
        "colab": {
          "base_uri": "https://localhost:8080/"
        },
        "id": "Lf6GExzNunZJ",
        "outputId": "0be07c23-8f5e-4cca-c2e7-78f11f1122ad"
      },
      "execution_count": null,
      "outputs": [
        {
          "output_type": "stream",
          "name": "stdout",
          "text": [
            "[[ 78  71  48]\n",
            " [101  53  62]]\n",
            "[[-46 -25 -24]\n",
            " [-47 -13 -30]]\n",
            "[[ 992 1104  432]\n",
            " [1998  660  736]]\n",
            "[[0.25806452 0.47916667 0.33333333]\n",
            " [0.36486486 0.60606061 0.34782609]]\n"
          ]
        }
      ]
    },
    {
      "cell_type": "markdown",
      "source": [
        "#some other useful functions"
      ],
      "metadata": {
        "id": "xx_txfDzvbDf"
      }
    },
    {
      "cell_type": "code",
      "source": [
        "array1 = numpy.random.randint(1,100, size=(2,3))\n",
        "print(array1)\n",
        "print(array1.shape)"
      ],
      "metadata": {
        "colab": {
          "base_uri": "https://localhost:8080/"
        },
        "id": "FoPsd4ZZvoau",
        "outputId": "b32acc7b-7ce9-46ab-a9fa-42bb6e5ff3a4"
      },
      "execution_count": null,
      "outputs": [
        {
          "output_type": "stream",
          "name": "stdout",
          "text": [
            "[[36 75 42]\n",
            " [98 43 10]]\n",
            "(2, 3)\n"
          ]
        }
      ]
    },
    {
      "cell_type": "code",
      "source": [
        "# transpose or T\n",
        "array2 = array1.T\n",
        "print(array2)\n",
        "print(array2.shape)"
      ],
      "metadata": {
        "colab": {
          "base_uri": "https://localhost:8080/"
        },
        "id": "pltUo6yiwLiV",
        "outputId": "ce1fcbab-6d79-4281-d7ff-7fb7e560a455"
      },
      "execution_count": null,
      "outputs": [
        {
          "output_type": "stream",
          "name": "stdout",
          "text": [
            "[[36 98]\n",
            " [75 43]\n",
            " [42 10]]\n",
            "(3, 2)\n"
          ]
        }
      ]
    },
    {
      "cell_type": "code",
      "source": [
        "array3 = numpy.transpose(array1)\n",
        "print(array3)\n",
        "print(array3.shape)"
      ],
      "metadata": {
        "colab": {
          "base_uri": "https://localhost:8080/"
        },
        "id": "EAS5Wk4eyGS9",
        "outputId": "c4df80c8-0311-41a8-a7c0-69025c026d1e"
      },
      "execution_count": null,
      "outputs": [
        {
          "output_type": "stream",
          "name": "stdout",
          "text": [
            "[[36 98]\n",
            " [75 43]\n",
            " [42 10]]\n",
            "(3, 2)\n"
          ]
        }
      ]
    },
    {
      "cell_type": "code",
      "source": [
        "# reshape\n",
        "n1 = numpy.random.randint(1,100, size=(2,3))\n",
        "print(n1)\n",
        "print(n1.shape)"
      ],
      "metadata": {
        "colab": {
          "base_uri": "https://localhost:8080/"
        },
        "id": "EmpDFFcky_OX",
        "outputId": "d55c7985-bc2b-4ff6-e21a-12ddc6f425bc"
      },
      "execution_count": null,
      "outputs": [
        {
          "output_type": "stream",
          "name": "stdout",
          "text": [
            "[[25 40 36]\n",
            " [34 84  4]]\n",
            "(2, 3)\n"
          ]
        }
      ]
    },
    {
      "cell_type": "code",
      "source": [
        "n2 = n1.reshape(3,2)\n",
        "print(n2)\n",
        "print(n2.shape)"
      ],
      "metadata": {
        "colab": {
          "base_uri": "https://localhost:8080/"
        },
        "id": "593alKwSzXTm",
        "outputId": "d464a05e-56dd-45af-e890-e7013ee585a8"
      },
      "execution_count": null,
      "outputs": [
        {
          "output_type": "stream",
          "name": "stdout",
          "text": [
            "[[25 40]\n",
            " [36 34]\n",
            " [84  4]]\n",
            "(3, 2)\n"
          ]
        }
      ]
    },
    {
      "cell_type": "code",
      "source": [],
      "metadata": {
        "id": "ycNmR46czvm4"
      },
      "execution_count": null,
      "outputs": []
    }
  ]
}